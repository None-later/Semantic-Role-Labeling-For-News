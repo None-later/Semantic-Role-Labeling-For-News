{
 "cells": [
  {
   "cell_type": "code",
   "execution_count": 1,
   "metadata": {
    "scrolled": true
   },
   "outputs": [
    {
     "ename": "ModuleNotFoundError",
     "evalue": "No module named 'tree_visualization_SRL'",
     "output_type": "error",
     "traceback": [
      "\u001b[0;31m---------------------------------------------------------------------------\u001b[0m",
      "\u001b[0;31mModuleNotFoundError\u001b[0m                       Traceback (most recent call last)",
      "\u001b[0;32m<ipython-input-1-0baa3355b373>\u001b[0m in \u001b[0;36m<module>\u001b[0;34m\u001b[0m\n\u001b[1;32m      8\u001b[0m \u001b[0;32mimport\u001b[0m \u001b[0mmatplotlib\u001b[0m\u001b[0;34m.\u001b[0m\u001b[0mpyplot\u001b[0m \u001b[0;32mas\u001b[0m \u001b[0mplt\u001b[0m\u001b[0;34m\u001b[0m\u001b[0;34m\u001b[0m\u001b[0m\n\u001b[1;32m      9\u001b[0m \u001b[0;34m\u001b[0m\u001b[0m\n\u001b[0;32m---> 10\u001b[0;31m \u001b[0;32mimport\u001b[0m \u001b[0mtree_visualization_SRL\u001b[0m \u001b[0;32mas\u001b[0m \u001b[0mtv\u001b[0m\u001b[0;34m\u001b[0m\u001b[0;34m\u001b[0m\u001b[0m\n\u001b[0m\u001b[1;32m     11\u001b[0m \u001b[0;34m\u001b[0m\u001b[0m\n\u001b[1;32m     12\u001b[0m \u001b[0;34m\u001b[0m\u001b[0m\n",
      "\u001b[0;31mModuleNotFoundError\u001b[0m: No module named 'tree_visualization_SRL'"
     ]
    }
   ],
   "source": [
    "%matplotlib notebook\n",
    "\n",
    "from ipywidgets import interact\n",
    "from ipywidgets import interact_manual\n",
    "from ipywidgets import interactive\n",
    "\n",
    "import ipywidgets as widgets\n",
    "import matplotlib.pyplot as plt\n",
    "\n",
    "import srl_visualization as sv\n",
    "\n",
    "\n",
    "style = {'description_width': 'initial'}\n",
    "\n",
    "def build_configurations(interested_roles, label_range, top_verbs, max_file_number, max_length_of_role, enable_coreference_resolution, coref_read_from_correct_file):\n",
    "    configurations = []\n",
    "    \n",
    "    if not interested_roles:\n",
    "        interested_roles = 'Donald Trump'\n",
    "    roles = interested_roles.split('\\n')\n",
    "    configurations.append((\"interested_roles\", roles))\n",
    "    \n",
    "    configurations.append((\"min_count_to_draw\", label_range[0]))\n",
    "    configurations.append((\"max_count_to_draw\", label_range[1]))\n",
    "    configurations.append((\"max_file_number\", max_file_number))\n",
    "    configurations.append((\"top_ranking_verbs\", top_verbs))\n",
    "    \n",
    "    configurations.append((\"max_length_of_role\", max_length_of_role))\n",
    "    if enable_coreference_resolution == True:\n",
    "        configurations.append((\"enable_coreference_resolution\", True))\n",
    "    else:\n",
    "        configurations.append((\"enable_coreference_resolution\", False))\n",
    "    if coref_read_from_correct_file == True:\n",
    "        configurations.append((\"coref_read_from_correct_file\", True))\n",
    "    else:\n",
    "        configurations.append((\"coref_read_from_correct_file\", False))\n",
    "\n",
    "    plt.close('all') # otherwise, it will show the picture only in odd times\n",
    "    tree_graph = sv.main(configurations)\n",
    "    \n",
    "    return tree_graph\n",
    "    \n",
    "tmp = interact_manual(build_configurations, \n",
    "interested_roles = widgets.Textarea(\n",
    "    value='',\n",
    "    placeholder='Type here, one per line\\nDefault: Donald Trump',\n",
    "    description='Interested Roles:',\n",
    "    disabled=False,\n",
    "    style=style\n",
    "), \n",
    "\n",
    "label_range = widgets.IntRangeSlider(\n",
    "    value=[2, 200],\n",
    "    min=0,\n",
    "    max=200,\n",
    "    step=1,\n",
    "    description='Label range:',\n",
    "    disabled=False,\n",
    "    continuous_update=False,\n",
    "    orientation='horizontal',\n",
    "    readout=True,\n",
    "    readout_format='d',\n",
    "), \n",
    "top_verbs = widgets.IntText(\n",
    "value = 5,\n",
    "),\n",
    "max_file_number = widgets.IntText(\n",
    "value = 30000, \n",
    "style=style),\n",
    "max_length_of_role = widgets.IntText(\n",
    "value = 50,\n",
    "style=style\n",
    "),\n",
    "enable_coreference_resolution = True,\n",
    "coref_read_from_correct_file = True)\n",
    "\n"
   ]
  },
  {
   "cell_type": "code",
   "execution_count": null,
   "metadata": {},
   "outputs": [],
   "source": []
  }
 ],
 "metadata": {
  "kernelspec": {
   "display_name": "Python 3",
   "language": "python",
   "name": "python3"
  },
  "language_info": {
   "codemirror_mode": {
    "name": "ipython",
    "version": 3
   },
   "file_extension": ".py",
   "mimetype": "text/x-python",
   "name": "python",
   "nbconvert_exporter": "python",
   "pygments_lexer": "ipython3",
   "version": "3.7.2"
  }
 },
 "nbformat": 4,
 "nbformat_minor": 2
}
